{
 "cells": [
  {
   "cell_type": "markdown",
   "metadata": {},
   "source": [
    "# Реализация протокола аутентификации на основе проверки пароля\n",
    "# С помошью шифрования Blowfish c режимом счетчика\n",
    "# И генерации ключа на основе ПДСЧ BBS Blum — Blum — Shub"
   ]
  },
  {
   "cell_type": "code",
   "execution_count": 1,
   "metadata": {},
   "outputs": [],
   "source": [
    "from blowfish_ctr import Blowfish\n",
    "from bbs import BBS\n",
    "import os\n",
    "import sys\n",
    "from accessify import private\n",
    "import logging\n",
    "import more_itertools\n",
    "import json"
   ]
  },
  {
   "cell_type": "code",
   "execution_count": 2,
   "metadata": {},
   "outputs": [],
   "source": [
    "logging.basicConfig(format = u'%(filename)s[LINE:%(lineno)d]# %(levelname)-8s [%(asctime)s]  %(message)s', level = logging.INFO)"
   ]
  },
  {
   "cell_type": "code",
   "execution_count": 3,
   "metadata": {},
   "outputs": [],
   "source": [
    "class Authentication:\n",
    "    def __init__(self, len_key:int = 448, file_name:str='Include/DB.json'):\n",
    "        '''\n",
    "        Констркутор\n",
    "        :param len_key: длина генерации ключа для Blowfish по умолчанию 448\n",
    "        :param file_name: место нахождения файла хранения учеток\n",
    "        '''\n",
    "        if len_key>448 or len_key<32:\n",
    "            logging.info('Длина ключа больше 448 ')\n",
    "            self.len_key = 448\n",
    "        else:\n",
    "            self.len_key = len_key\n",
    "        \n",
    "        self.__main_dict = {'key':''}\n",
    "        self.__file_name = self.resource_path(file_name)\n",
    "        self.generateKey()\n",
    "        self.__alarm = 0 \n",
    "    \n",
    "    @private\n",
    "    def resource_path(self, relative):\n",
    "        '''\n",
    "        :return полный путь до файла\n",
    "        '''\n",
    "        if hasattr(sys, '_MEIPASS'):\n",
    "            return os.path.join(sys._MEIPASS, relative)\n",
    "        else:\n",
    "            return os.path.join(os.path.abspath(\".\"), relative)\n",
    "    \n",
    "    \n",
    "    @private\n",
    "    def generateKey(self):\n",
    "        '''\n",
    "        Функция генерации ключа\n",
    "        Ключ для blowfish от 32 до 448 бит\n",
    "        '''\n",
    "        \n",
    "        self.__key = ''\n",
    "        for j in [''.join(i) for i in more_itertools.grouper(BBS(self.len_key, 991, 997).run(),8)]:\n",
    "            self.__key+=chr(int(j,2))\n",
    "    \n",
    "        \n",
    "        self.__main_dict['key'] = self.__key\n",
    "        \n",
    "        if not os.path.exists(self.__file_name):\n",
    "            logging.info('файл не существует')\n",
    "            with open(self.__file_name, 'w', encoding='utf-8') as file:\n",
    "                file.write(json.dumps(self.__main_dict))\n",
    "            \n",
    "            return self.__main_dict\n",
    "            \n",
    "        else:\n",
    "            with open(self.__file_name, 'r', encoding='utf-8') as file:\n",
    "                self.__main_dict = json.loads(file.read())\n",
    "            if not self.__main_dict.get('key'):\n",
    "                logging.info('Попытки взлома')\n",
    "                self.__alarm = 1\n",
    "            else:\n",
    "                self.__key = self.__main_dict['key']\n",
    "                self.__alarm = 0\n",
    "                \n",
    "            return self.__main_dict\n",
    "          \n",
    "        \n",
    "    \n",
    "    def check(self, login, password):\n",
    "        if self.__alarm or login=='key':\n",
    "            return 'попытки взлома Работать не буду'\n",
    "        \n",
    "        if self.__main_dict.get(login):\n",
    "            logging.info('Пользователь есть')\n",
    "            \n",
    "            if Blowfish().runDecrypt(self.__main_dict[login], self.__key) == password :\n",
    "                logging.info('Вы аутентифицированны')\n",
    "                return 1\n",
    "            else:\n",
    "                logging.info('Пароль не верный')\n",
    "                return 0\n",
    "        else:\n",
    "            logging.info('Пользователь не найден')\n",
    "            return 0\n",
    "    \n",
    "    \n",
    "    def createUser(self, login, password):\n",
    "        if self.__alarm:\n",
    "            return 'попытки взлома Работать не буду'\n",
    "        \n",
    "        if login == 'key':\n",
    "            loggin.error('Запрещено')\n",
    "            return 0\n",
    "        \n",
    "        if self.__main_dict.get(login):\n",
    "            logging.info('Пользователь есть')\n",
    "        else:\n",
    "            self.__main_dict[login] = Blowfish().runEncrypt(password,self.__key)\n",
    "            logging.info('Новая запись добавлена')\n",
    "            with open(self.__file_name,'w') as file:\n",
    "                file.write(json.dumps(self.__main_dict, indent=4, sort_keys=True))\n",
    "    \n",
    "    "
   ]
  },
  {
   "cell_type": "code",
   "execution_count": 5,
   "metadata": {},
   "outputs": [
    {
     "name": "stdout",
     "output_type": "stream",
     "text": [
      "2020-04-29 18:30:26.388842\n"
     ]
    },
    {
     "name": "stderr",
     "output_type": "stream",
     "text": [
      "<ipython-input-3-32e130efb985>[LINE:70]# INFO     [2020-04-29 18:30:27,037]  Пользователь есть\n",
      "<ipython-input-3-32e130efb985>[LINE:73]# INFO     [2020-04-29 18:30:27,392]  Вы аутентифицированны\n"
     ]
    },
    {
     "name": "stdout",
     "output_type": "stream",
     "text": [
      "2020-04-29 18:30:27.393731\n"
     ]
    }
   ],
   "source": [
    "import datetime\n",
    "print(f'''{datetime.datetime.now()}''')\n",
    "auth = Authentication(len_key = 448, file_name='Include/DB.json')\n",
    "auth.check('user_11','1111')\n",
    "print(f'''{datetime.datetime.now()}''')"
   ]
  },
  {
   "cell_type": "code",
   "execution_count": null,
   "metadata": {},
   "outputs": [],
   "source": []
  }
 ],
 "metadata": {
  "kernelspec": {
   "display_name": "Python 3",
   "language": "python",
   "name": "python3"
  },
  "language_info": {
   "codemirror_mode": {
    "name": "ipython",
    "version": 3
   },
   "file_extension": ".py",
   "mimetype": "text/x-python",
   "name": "python",
   "nbconvert_exporter": "python",
   "pygments_lexer": "ipython3",
   "version": "3.7.1"
  }
 },
 "nbformat": 4,
 "nbformat_minor": 2
}
